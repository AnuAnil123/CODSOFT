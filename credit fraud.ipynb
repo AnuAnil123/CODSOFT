{
 "cells": [
  {
   "cell_type": "code",
   "execution_count": 18,
   "id": "18fd2e10",
   "metadata": {},
   "outputs": [
    {
     "data": {
      "text/plain": [
       "555719"
      ]
     },
     "execution_count": 18,
     "metadata": {},
     "output_type": "execute_result"
    }
   ],
   "source": [
    "import pandas as pd\n",
    "from sklearn.model_selection import GridSearchCV\n",
    "from sklearn.ensemble import RandomForestClassifier as rf\n",
    "from sklearn.metrics import classification_report, confusion_matrix, roc_auc_score\n",
    "from sklearn.preprocessing import StandardScaler\n",
    "from imblearn.over_sampling import SMOTE\n",
    "\n",
    "\n",
    "\n",
    "# Load the datasets\n",
    "train_data_path = r'C:\\Users\\HP\\Downloads\\i2\\fraudTrain.csv'\n",
    "test_data_path = r'C:\\Users\\HP\\Downloads\\i2\\fraudTest.csv'\n",
    "\n",
    "train_data = pd.read_csv(train_data_path)\n",
    "test_data = pd.read_csv(test_data_path)\n",
    "\n",
    "\n",
    "\n",
    "# Separate features and target\n",
    "X_train = train_data.drop('is_fraud', axis=1)  # Assuming 'target' is the label column\n",
    "y_train = train_data['is_fraud']\n",
    "X_test = test_data.drop('is_fraud', axis=1)\n",
    "y_test = test_data['is_fraud']\n",
    "\n",
    "# Data Preprocessing\n",
    "# Handle missing values\n",
    "X_train.fillna(method='ffill', inplace=True)\n",
    "X_test.fillna(method='ffill', inplace=True)\n",
    "\n",
    "\n",
    "\n",
    "# Frequency Encoding for categorical variables\n",
    "def frequency_encoding(df, column):\n",
    "    fe = df[column].value_counts().to_dict()\n",
    "    df[column] = df[column].map(fe)\n",
    "    return df\n",
    "\n",
    "categorical_columns = X_train.select_dtypes(include=['object']).columns\n",
    "\n",
    "for column in categorical_columns:\n",
    "    X_train = frequency_encoding(X_train, column)\n",
    "    X_test = frequency_encoding(X_test, column)\n",
    "\n",
    "\n",
    "\n",
    "# Normalize/scale features (optional, based on your dataset)\n",
    "scaler = StandardScaler()\n",
    "X_train = scaler.fit_transform(X_train)\n",
    "X_test = scaler.transform(X_test)\n",
    "\n",
    "\n",
    "\n",
    "# Handle Class Imbalance\n",
    "smote = SMOTE(random_state=42)\n",
    "X_train_smote, y_train_smote = smote.fit_resample(X_train, y_train)\n",
    "\n",
    "len(train_data)\n",
    "\n",
    "len(test_data)\n",
    "\n"
   ]
  },
  {
   "cell_type": "code",
   "execution_count": null,
   "id": "08ae29d4",
   "metadata": {},
   "outputs": [],
   "source": [
    "\n"
   ]
  },
  {
   "cell_type": "code",
   "execution_count": 17,
   "id": "b3a402c4",
   "metadata": {},
   "outputs": [
    {
     "name": "stdout",
     "output_type": "stream",
     "text": [
      "Accuracy: 99.44%\n",
      "Classification Report:\n",
      "              precision    recall  f1-score   support\n",
      "\n",
      "           0       1.00      1.00      1.00    553574\n",
      "           1       0.28      0.28      0.28      2145\n",
      "\n",
      "    accuracy                           0.99    555719\n",
      "   macro avg       0.64      0.64      0.64    555719\n",
      "weighted avg       0.99      0.99      0.99    555719\n",
      "\n",
      "ROC AUC Score: 0.8538\n"
     ]
    },
    {
     "data": {
      "image/png": "[encoded data removed]",
      "text/plain": [
       "<Figure size 400x400 with 1 Axes>"
      ]
     },
     "metadata": {},
     "output_type": "display_data"
    }
   ],
   "source": [
    "from sklearn.linear_model import LogisticRegression\n",
    "from sklearn.metrics import accuracy_score, confusion_matrix, classification_report, roc_auc_score\n",
    "\n",
    "# Initialize Logistic Regression\n",
    "logreg = LogisticRegression(class_weight='balanced', random_state=42, max_iter=1000, n_jobs=-1)\n",
    "\n",
    "# Train the model\n",
    "logreg.fit(X_train_smote, y_train_smote)\n",
    "\n",
    "# Make predictions\n",
    "y_pred = logreg.predict(X_test)\n",
    "y_prob = logreg.predict_proba(X_test)[:, 1]\n",
    "\n",
    "# Evaluate the model\n",
    "\n",
    "# Calculate accuracy as a percentage\n",
    "accuracy = accuracy_score(y_test, y_pred) * 100\n",
    "\n",
    "# Print the accuracy in a formatted string\n",
    "print(f\"Accuracy: {accuracy:.2f}%\")\n",
    "\n",
    "# Classification Report\n",
    "print(f'Classification Report:\\n{classification_report(y_test, y_pred)}')\n",
    "\n",
    "# ROC AUC Score\n",
    "print(f'ROC AUC Score: {roc_auc_score(y_test, y_prob):.4f}')\n",
    "\n",
    "# Plot the Confusion Matrix\n",
    "cm = confusion_matrix(y_test, y_pred)\n",
    "\n",
    "plt.figure(figsize=(4, 4))\n",
    "sns.heatmap(cm, annot=True, fmt='d', cmap='Reds', cbar=False, \n",
    "            xticklabels=['Not Fraud', 'Fraud'], \n",
    "            yticklabels=['Not Fraud', 'Fraud'])\n",
    "plt.xlabel('Predicted')\n",
    "plt.ylabel('Actual')\n",
    "plt.title('Confusion Matrix')\n",
    "plt.show()\n",
    "\n"
   ]
  },
  {
   "cell_type": "code",
   "execution_count": null,
   "id": "7592dfe8",
   "metadata": {},
   "outputs": [],
   "source": [
    "\n"
   ]
  },
  {
   "cell_type": "code",
   "execution_count": 1,
   "id": "e1a72715",
   "metadata": {},
   "outputs": [],
   "source": []
  },
  {
   "cell_type": "code",
   "execution_count": null,
   "id": "a18bc058",
   "metadata": {},
   "outputs": [],
   "source": []
  },
  {
   "cell_type": "code",
   "execution_count": null,
   "id": "69a7b811",
   "metadata": {},
   "outputs": [],
   "source": []
  },
  {
   "cell_type": "code",
   "execution_count": null,
   "id": "30d94195",
   "metadata": {},
   "outputs": [],
   "source": []
  },
  {
   "cell_type": "code",
   "execution_count": null,
   "id": "c3c4b6ed",
   "metadata": {},
   "outputs": [],
   "source": []
  },
  {
   "cell_type": "code",
   "execution_count": null,
   "id": "aa71b6d9",
   "metadata": {},
   "outputs": [],
   "source": []
  },
  {
   "cell_type": "code",
   "execution_count": null,
   "id": "4b822d4f",
   "metadata": {},
   "outputs": [],
   "source": []
  },
  {
   "cell_type": "code",
   "execution_count": null,
   "id": "5a400b97",
   "metadata": {},
   "outputs": [],
   "source": []
  },
  {
   "cell_type": "code",
   "execution_count": null,
   "id": "4bb7ef16",
   "metadata": {},
   "outputs": [],
   "source": []
  }
 ],
 "metadata": {
  "kernelspec": {
   "display_name": "Python 3 (ipykernel)",
   "language": "python",
   "name": "python3"
  },
  "language_info": {
   "codemirror_mode": {
    "name": "ipython",
    "version": 3
   },
   "file_extension": ".py",
   "mimetype": "text/x-python",
   "name": "python",
   "nbconvert_exporter": "python",
   "pygments_lexer": "ipython3",
   "version": "3.11.5"
  }
 },
 "nbformat": 4,
 "nbformat_minor": 5
}
